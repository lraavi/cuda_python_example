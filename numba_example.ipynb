{
 "cells": [
  {
   "cell_type": "code",
   "execution_count": 17,
   "id": "fce5acd0-eedd-47c7-b4e1-3db4b07bd5c3",
   "metadata": {
    "tags": []
   },
   "outputs": [
    {
     "name": "stdout",
     "output_type": "stream",
     "text": [
      "Python version: 3.8.10 (default, Nov 14 2022, 12:59:47) \n",
      "[GCC 9.4.0]\n",
      "Numba version: 0.56.4\n",
      "Numpy version: 1.23.5\n"
     ]
    }
   ],
   "source": [
    "import sys\n",
    "import numba\n",
    "import numpy\n",
    "\n",
    "print(f\"Python version: {sys.version}\")\n",
    "print(f\"Numba version: {numba.__version__}\")\n",
    "print(f\"Numpy version: {numpy.__version__}\")"
   ]
  },
  {
   "cell_type": "code",
   "execution_count": 18,
   "id": "62b909c2-e3b9-4ac6-a29f-714340f05a20",
   "metadata": {
    "tags": []
   },
   "outputs": [
    {
     "name": "stdout",
     "output_type": "stream",
     "text": [
      "nvcc: NVIDIA (R) Cuda compiler driver\n",
      "Copyright (c) 2005-2022 NVIDIA Corporation\n",
      "Built on Tue_Mar__8_18:18:20_PST_2022\n",
      "Cuda compilation tools, release 11.6, V11.6.124\n",
      "Build cuda_11.6.r11.6/compiler.31057947_0\n"
     ]
    }
   ],
   "source": [
    "!nvcc --version"
   ]
  },
  {
   "cell_type": "code",
   "execution_count": 19,
   "id": "0ebad224-81ef-418e-a7f7-cff5fee296bc",
   "metadata": {
    "tags": []
   },
   "outputs": [
    {
     "name": "stdout",
     "output_type": "stream",
     "text": [
      "Thu Apr 13 23:37:55 2023       \n",
      "+-----------------------------------------------------------------------------+\n",
      "| NVIDIA-SMI 525.105.17   Driver Version: 525.105.17   CUDA Version: 12.0     |\n",
      "|-------------------------------+----------------------+----------------------+\n",
      "| GPU  Name        Persistence-M| Bus-Id        Disp.A | Volatile Uncorr. ECC |\n",
      "| Fan  Temp  Perf  Pwr:Usage/Cap|         Memory-Usage | GPU-Util  Compute M. |\n",
      "|                               |                      |               MIG M. |\n",
      "|===============================+======================+======================|\n",
      "|   0  NVIDIA A40          Off  | 00000000:00:10.0 Off |                    0 |\n",
      "|  0%   37C    P0    75W / 300W |   1113MiB / 46068MiB |      0%      Default |\n",
      "|                               |                      |                  N/A |\n",
      "+-------------------------------+----------------------+----------------------+\n",
      "|   1  NVIDIA GeForce ...  Off  | 00000000:00:11.0 Off |                  N/A |\n",
      "|  0%   27C    P8     5W / 120W |    153MiB /  6144MiB |      0%      Default |\n",
      "|                               |                      |                  N/A |\n",
      "+-------------------------------+----------------------+----------------------+\n",
      "                                                                               \n",
      "+-----------------------------------------------------------------------------+\n",
      "| Processes:                                                                  |\n",
      "|  GPU   GI   CI        PID   Type   Process name                  GPU Memory |\n",
      "|        ID   ID                                                   Usage      |\n",
      "|=============================================================================|\n",
      "+-----------------------------------------------------------------------------+\n"
     ]
    }
   ],
   "source": [
    "!nvidia-smi"
   ]
  },
  {
   "cell_type": "markdown",
   "id": "944af558-adfc-40c9-89de-9e1e6f4c1146",
   "metadata": {},
   "source": [
    "# Python CUDA examples"
   ]
  },
  {
   "cell_type": "markdown",
   "id": "2de48999-985a-4373-b7a6-69e21d739ec4",
   "metadata": {},
   "source": [
    "## Importing required packages"
   ]
  },
  {
   "cell_type": "code",
   "execution_count": 20,
   "id": "d146d8ae-bdd8-47dd-90ed-11805d1faf7c",
   "metadata": {
    "tags": []
   },
   "outputs": [],
   "source": [
    "from numba import cuda\n",
    "import numpy as np\n",
    "import time"
   ]
  },
  {
   "cell_type": "markdown",
   "id": "8b761184-1ac1-4086-aed9-48d30ad1096c",
   "metadata": {},
   "source": [
    "## Cuda Kernels"
   ]
  },
  {
   "cell_type": "code",
   "execution_count": 5,
   "id": "424e0faf-5402-4bfb-ab6e-e4af931c5011",
   "metadata": {
    "tags": []
   },
   "outputs": [],
   "source": [
    "@cuda.jit\n",
    "def cudakernel0(array):\n",
    "    for i in range(array.size):\n",
    "        array[i] += 0.5\n",
    "        \n",
    "@cuda.jit\n",
    "def cudakernel1(array):\n",
    "    # cuda.grid(1) = cuda.threadIdx.x + cuda.blockIdx.x * cuda.blockDim.x\n",
    "    thread_postition = cuda.grid(1)\n",
    "    array[thread_postition] += 0.5"
   ]
  },
  {
   "cell_type": "markdown",
   "id": "98024455-69be-4572-bc50-e71bf03fd528",
   "metadata": {},
   "source": [
    "## Running Kernels"
   ]
  },
  {
   "cell_type": "code",
   "execution_count": 21,
   "id": "aa332415-8a1d-490b-955c-356a2e351b92",
   "metadata": {
    "tags": []
   },
   "outputs": [
    {
     "name": "stdout",
     "output_type": "stream",
     "text": [
      "Initial Array: [0. 1.]\n",
      "Kernel launch: cudakernel0[1, 1](array)\n",
      "Updated array: [0.5 1.5] \n",
      " Time taken: 0.0654442310333252\n"
     ]
    }
   ],
   "source": [
    "array = np.array([0,1], np.float32)\n",
    "print(f\"Initial Array: {array}\")\n",
    "\n",
    "gridSize = 1\n",
    "blockSize = 1\n",
    "\n",
    "print('Kernel launch: cudakernel0[1, 1](array)')\n",
    "start_time = time.time()\n",
    "cudakernel0[gridSize,blockSize](array)\n",
    "time_taken = time.time() - start_time\n",
    "\n",
    "print (f\"Updated array: {array} \\n Time taken: {time_taken}\")"
   ]
  },
  {
   "cell_type": "code",
   "execution_count": 25,
   "id": "648694ee-14f5-49af-8591-efbc21a186f0",
   "metadata": {
    "tags": []
   },
   "outputs": [
    {
     "name": "stdout",
     "output_type": "stream",
     "text": [
      "Initial Array: [0. 1.]\n",
      "Kernel launch: cudakernel0[1, 1](array)\n",
      "Updated array: [14.  15.5] \n",
      " Time taken: 0.0020678043365478516\n"
     ]
    }
   ],
   "source": [
    "array = np.array([0,1], np.float32)\n",
    "print(f\"Initial Array: {array}\")\n",
    "\n",
    "gridSize = 1024\n",
    "blockSize = 1024\n",
    "\n",
    "print('Kernel launch: cudakernel0[1, 1](array)')\n",
    "start_time = time.time()\n",
    "cudakernel0[gridSize,blockSize](array)\n",
    "time_taken = time.time() - start_time\n",
    "\n",
    "print (f\"Updated array: {array} \\n Time taken: {time_taken}\")"
   ]
  },
  {
   "cell_type": "code",
   "execution_count": 26,
   "id": "ae049be4-865e-4db3-8d91-400feb5cb178",
   "metadata": {
    "tags": []
   },
   "outputs": [
    {
     "name": "stdout",
     "output_type": "stream",
     "text": [
      "Initial Array: [0. 1.]\n",
      "Kernel launch: cudakernel1[1, 2](array)\n",
      "Updated array: [0.5 1.5] \n",
      " Time taken: 0.00250244140625\n"
     ]
    }
   ],
   "source": [
    "array = np.array([0,1], np.float32)\n",
    "print(f\"Initial Array: {array}\")\n",
    "\n",
    "gridSize = 1\n",
    "blockSize = 2\n",
    "\n",
    "print('Kernel launch: cudakernel1[1, 2](array)')\n",
    "start_time = time.time()\n",
    "cudakernel1[gridSize,blockSize](array)\n",
    "time_taken = time.time() - start_time\n",
    "\n",
    "print (f\"Updated array: {array} \\n Time taken: {time_taken}\")"
   ]
  },
  {
   "cell_type": "code",
   "execution_count": 27,
   "id": "9811045a-519b-4311-9bf7-54eb4f2b556e",
   "metadata": {
    "tags": []
   },
   "outputs": [
    {
     "name": "stdout",
     "output_type": "stream",
     "text": [
      "Initial Array: [0. 0. 0. ... 0. 0. 0.]\n",
      "Kernel launch: cudakernel1[1024, 1024](array)\n",
      "Updated array: [0.5 0.5 0.5 ... 0.5 0.5 0.5] \n",
      " Time taken: 0.006869316101074219\n"
     ]
    }
   ],
   "source": [
    "array = np.zeros(1024*1024)\n",
    "print(f\"Initial Array: {array}\")\n",
    "\n",
    "gridSize = 1024\n",
    "blockSize = 1024\n",
    "\n",
    "print('Kernel launch: cudakernel1[1024, 1024](array)')\n",
    "start_time = time.time()\n",
    "cudakernel1[gridSize,blockSize](array)\n",
    "time_taken = time.time() - start_time\n",
    "\n",
    "print (f\"Updated array: {array} \\n Time taken: {time_taken}\")"
   ]
  },
  {
   "cell_type": "markdown",
   "id": "057f3d0f-f14e-4048-8e81-efec252db677",
   "metadata": {},
   "source": [
    "## Streams and Events"
   ]
  },
  {
   "cell_type": "code",
   "execution_count": 28,
   "id": "e84c3547-3ed1-49d2-b7fa-70874226e891",
   "metadata": {
    "tags": []
   },
   "outputs": [],
   "source": [
    "N_STREAMS = 10\n",
    "streams = [cuda.stream() for _ in range(N_STREAMS)]\n",
    "array = np.zeros(1024*1024)"
   ]
  },
  {
   "cell_type": "code",
   "execution_count": 29,
   "id": "7b3cee61-13fc-4ade-8187-b892176a4b36",
   "metadata": {
    "tags": []
   },
   "outputs": [
    {
     "data": {
      "text/plain": [
       "[<CUDA stream 50925936 on <CUDA context c_void_p(40175984) of device 0>>,\n",
       " <CUDA stream 50866272 on <CUDA context c_void_p(40175984) of device 0>>,\n",
       " <CUDA stream 51243200 on <CUDA context c_void_p(40175984) of device 0>>,\n",
       " <CUDA stream 50919984 on <CUDA context c_void_p(40175984) of device 0>>,\n",
       " <CUDA stream 50518320 on <CUDA context c_void_p(40175984) of device 0>>]"
      ]
     },
     "execution_count": 29,
     "metadata": {},
     "output_type": "execute_result"
    }
   ],
   "source": [
    "streams[:5]"
   ]
  },
  {
   "cell_type": "code",
   "execution_count": 30,
   "id": "51292b39-0f6b-4a39-ae06-ffd107ed8ba2",
   "metadata": {
    "tags": []
   },
   "outputs": [
    {
     "name": "stdout",
     "output_type": "stream",
     "text": [
      "Per stream blockSize: 256\n",
      "Per stream gridSize: 410\n"
     ]
    }
   ],
   "source": [
    "stream_size = (len(array)+ N_STREAMS -1) // N_STREAMS\n",
    "blockSize = 256\n",
    "gridSize = (stream_size + blockSize -1) // blockSize\n",
    "\n",
    "print(f\"Per stream blockSize: {blockSize}\")\n",
    "print(f\"Per stream gridSize: {gridSize}\")"
   ]
  },
  {
   "cell_type": "code",
   "execution_count": 31,
   "id": "bba6b3fa-e2dc-4718-854e-7d424c8f3648",
   "metadata": {
    "tags": []
   },
   "outputs": [
    {
     "name": "stdout",
     "output_type": "stream",
     "text": [
      "Time Taken : 0.022527217864990234\n"
     ]
    }
   ],
   "source": [
    "result_array = np.empty_like(array)\n",
    "start_time = time.time()\n",
    "\n",
    "for i, stream in enumerate(streams):\n",
    "    if (i+1)*stream_size < len(array) -1:\n",
    "        # coping data to the device\n",
    "        d_array = cuda.to_device(array[i*stream_size : (i+1)*stream_size], stream=stream)\n",
    "        \n",
    "        # run the kernel\n",
    "        cudakernel1[blockSize, gridSize, stream](d_array)\n",
    "        \n",
    "        # copy the result back\n",
    "        d_array.copy_to_host(result_array[i*stream_size : (i+1)*stream_size], stream=stream)\n",
    "    \n",
    "    else:\n",
    "        # coping data to the device\n",
    "        d_array = cuda.to_device(array[i*stream_size:], stream=stream)\n",
    "        \n",
    "        # run the kernel\n",
    "        cudakernel1[blockSize, gridSize, stream](d_array)\n",
    "        \n",
    "        # copy the result back\n",
    "        d_array.copy_to_host(result_array[i*stream_size :], stream=stream)\n",
    "\n",
    "cuda.synchronize()\n",
    "time_taken = time.time() - start_time\n",
    "\n",
    "print(f\"Time Taken : {time_taken}\")"
   ]
  },
  {
   "cell_type": "code",
   "execution_count": 32,
   "id": "115a5564-c85a-4075-92c9-18dc392892de",
   "metadata": {
    "tags": []
   },
   "outputs": [
    {
     "data": {
      "text/plain": [
       "array([0.5, 0.5, 0.5, ..., 0.5, 0.5, 0.5])"
      ]
     },
     "execution_count": 32,
     "metadata": {},
     "output_type": "execute_result"
    }
   ],
   "source": [
    "result_array"
   ]
  },
  {
   "cell_type": "code",
   "execution_count": 33,
   "id": "44a3d492-2074-40a0-ba62-d9f78af8deb1",
   "metadata": {
    "tags": []
   },
   "outputs": [
    {
     "data": {
      "text/plain": [
       "True"
      ]
     },
     "execution_count": 33,
     "metadata": {},
     "output_type": "execute_result"
    }
   ],
   "source": [
    "np.all(result_array == np.zeros(1024*1024)+0.5)"
   ]
  },
  {
   "cell_type": "code",
   "execution_count": null,
   "id": "17038422-9c79-4d87-b13c-f5bc7bfc83c8",
   "metadata": {},
   "outputs": [],
   "source": []
  }
 ],
 "metadata": {
  "kernelspec": {
   "display_name": "Python 3 (ipykernel)",
   "language": "python",
   "name": "python3"
  },
  "language_info": {
   "codemirror_mode": {
    "name": "ipython",
    "version": 3
   },
   "file_extension": ".py",
   "mimetype": "text/x-python",
   "name": "python",
   "nbconvert_exporter": "python",
   "pygments_lexer": "ipython3",
   "version": "3.8.10"
  }
 },
 "nbformat": 4,
 "nbformat_minor": 5
}
